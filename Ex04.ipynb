{
 "cells": [
  {
   "cell_type": "markdown",
   "metadata": {},
   "source": [
    "<div class=\"clearfix\" style=\"padding: 10px; padding-left: 0px\">\n",
    "<a href=\"https://www.unicamp.br/\"><img src=\"http://www.fee.unicamp.br/sites/all/themes/theme537/images/unicamp.png\" width=\"100px\" style=\"display: inline-block; margin-top: 5px;\"></a>\n",
    "<a href=\"https://www.fee.unicamp.br/\"><img src=\"http://www.fee.unicamp.br/sites/default/files/imagens/logo_feec_50anos_juntos.png\" width=\"150px\" class=\"pull-right\" style=\"display: inline-block; margin: 0px;\"></a>\n",
    "</div>\n",
    "\n",
    "## IE325Z - Introdução à Confiabilidade de Materiais e Dispositivos\n",
    "## Lista 1 - Exercício 4\n",
    "\n",
    "<br>\n",
    "\n",
    "|Alunos   \t|RA   \t|e-mail   \t|\n",
    "|:-:\t|:-:\t|:-:\t|\n",
    "|Patricia Henriques Nallin  \t|103717   \t|patricia.nallin@gmail.com   \t| \n",
    "|Mauricio Martins Donatti  \t|092374   \t|mmdonatti@gmail.com   \t| \n",
    "\n",
    "\n",
    "\n",
    "|Professor     \t|e-mail   \t|\n",
    "|:-:\t|:-:\t|\n",
    "|Prof. Roberto Lacerda de Orio | orio@dsif.fee.unicamp.br |"
   ]
  },
  {
   "cell_type": "markdown",
   "metadata": {},
   "source": [
    "### Instruções de Uso\n",
    "\n",
    "Para rodar um trecho de código:\n",
    "\n",
    "1. Clique para selecionar a célula\n",
    "2. Aperte `SHIFT+ENTER` no teclado ou clique no botão (<button class='fa fa-play icon-play btn btn-xs btn-default'></button>) na barra superior da página."
   ]
  },
  {
   "cell_type": "markdown",
   "metadata": {
    "collapsed": true
   },
   "source": [
    "### Enunciado\n",
    "<br>\n",
    "<div style=\"text-align: justify\">O tamanho de um tumor cerebral inoperável foi monitorado por 3 meses antes do uso de uma droga experimental e por 3 meses após o uso de tal droga. Os dados são mostrados abaixo.</div>\n",
    "\n",
    "|Tempo(meses)|Tamanho(cm)|\n",
    "|:-:\t|:-:\t|\n",
    "|0|1.00|\n",
    "|1|1.10|\n",
    "|2|1.20|\n",
    "|3|1.30|\n",
    "|Introdução da droga|\n",
    "|3|1.30|\n",
    "|4|1.43|\n",
    "|5|1.48|\n",
    "|6|1.52|\n",
    "\n",
    "<br><div style=\"text-align: justify\">a) Determine a equação potencial que descreve o crescimento do tumor antes e depois do uso da droga experimental.\n",
    "<br>\n",
    "b) Através da relação entre as duas taxas de crescimento determine se a droga experimental foi efetiva na redução da taxa de crescimento do tumor.\n",
    "<br>\n",
    "c) Calcule em quanto tempo o tumor cresce para 1,6 cm.</div>\n",
    "\n",
    "---"
   ]
  },
  {
   "cell_type": "code",
   "execution_count": 2,
   "metadata": {},
   "outputs": [
    {
     "data": {
      "image/png": "[encoded data removed]",
      "text/plain": [
       "<matplotlib.figure.Figure at 0x10988d4a8>"
      ]
     },
     "metadata": {},
     "output_type": "display_data"
    }
   ],
   "source": [
    "import matplotlib.pyplot as plt\n",
    "import notebook_importer\n",
    "from modules import IE325\n",
    "\n",
    "\n",
    "# ----- Dados\n",
    "tempo_meses_antes = [0, 1, 2, 3]\n",
    "tempo_meses_depois = [3, 4, 5, 6]\n",
    "tamanho_cm_antes = [1.0, 1.1, 1.2, 1.3]\n",
    "tamanho_cm_depois = [1.3, 1.43, 1.48, 1.52]\n",
    "\n",
    "\n",
    "PL_antes = IE325.PowerLaw(tempo_meses_antes, tamanho_cm_antes)\n",
    "PL_depois = IE325.PowerLaw(tempo_meses_depois, tamanho_cm_depois, deltaT = 3)\n",
    "\n",
    "\n",
    "\n",
    "# ----- Dados linearizados\n",
    "xlin_antes,ylin_antes = PL_antes.LinearData()\n",
    "xlin_depois,ylin_depois = PL_depois.LinearData()\n",
    "\n",
    "# ----- Plot Linear Fit\n",
    "plt.plot(xlin_antes, ylin_antes, 'o', xlin_antes, PL_antes.LinearFit(),\n",
    "        xlin_depois, ylin_depois, 'o', xlin_depois, PL_depois.LinearFit())\n",
    "plt.title('Linear Fit')\n",
    "plt.xlabel('ln(t) [meses]')\n",
    "plt.ylabel('ln((Tamanhoo-Tamanho)/Tamanhoo))')\n",
    "plt.legend([\"\",\"Antes\",\"\",\"Depois\"])\n",
    "plt.grid()\n",
    "plt.show() "
   ]
  },
  {
   "cell_type": "markdown",
   "metadata": {},
   "source": [
    "---\n",
    "** EQUAÇÃO POTENCIAL ANTES DA DROGA**:\n",
    "\n",
    "(para t <= 3 meses)\n"
   ]
  },
  {
   "cell_type": "code",
   "execution_count": 3,
   "metadata": {},
   "outputs": [
    {
     "name": "stdout",
     "output_type": "stream",
     "text": [
      "Tamanho(t) = 1.0 * (1 + 1.0e-01 * t^1.0e+00) [cm]\n",
      "Tamanho(t) = 1.0 + 1.0e-01 * t^1.0e+00 [cm]\n"
     ]
    }
   ],
   "source": [
    "print (\"Tamanho(t) = \" + PL_antes.LawComplete(decimal = 1) + \" [cm]\")\n",
    "print (\"Tamanho(t) = \" + PL_antes.LawSimple(decimal = 1) + \" [cm]\")"
   ]
  },
  {
   "cell_type": "markdown",
   "metadata": {},
   "source": [
    "**EQUAÇÃO POTENCIAL DEPOIS DA DROGA**:\n",
    "\n",
    "(para t >= 3 meses)"
   ]
  },
  {
   "cell_type": "code",
   "execution_count": 4,
   "metadata": {},
   "outputs": [
    {
     "name": "stdout",
     "output_type": "stream",
     "text": [
      "Tamanho(t) = 1.3 * (1 + 9.98e-02 * (t - 3)^4.78e-01) [cm]\n",
      "Tamanho(t) = 1.3 + 1.30e-01 * (t - 3)^4.78e-01) [cm]\n"
     ]
    }
   ],
   "source": [
    "print (\"Tamanho(t) = \" + PL_depois.LawComplete(decimal = 2) + \" [cm]\")\n",
    "print (\"Tamanho(t) = \" + PL_depois.LawSimple(decimal = 2) + \" [cm]\")"
   ]
  },
  {
   "cell_type": "markdown",
   "metadata": {},
   "source": [
    "---\n",
    "##### Plot dos Dados Originais e das funções de potência correspondentes"
   ]
  },
  {
   "cell_type": "code",
   "execution_count": 5,
   "metadata": {},
   "outputs": [
    {
     "data": {
      "image/png": "[encoded data removed]",
      "text/plain": [
       "<matplotlib.figure.Figure at 0x10f842668>"
      ]
     },
     "metadata": {},
     "output_type": "display_data"
    }
   ],
   "source": [
    "# ----- Plot do Dados Originais\n",
    "plt.plot(tempo_meses_antes + tempo_meses_depois, tamanho_cm_antes + tamanho_cm_depois, 'o',\n",
    "         tempo_meses_antes, PL_antes.Find_S(tempo_meses_antes),\n",
    "         tempo_meses_depois + [7, 8, 9, 10], PL_depois.Find_S(tempo_meses_depois+ [7, 8, 9, 10]))\n",
    "plt.title('Tamanho do Tumor - Droga administrada aos 3 meses')\n",
    "plt.xlabel('t [meses]')\n",
    "plt.ylabel('Tamanho [cm]')\n",
    "plt.legend([\"Tabela\",\"Antes da droga\",\"Depois da droga\"])\n",
    "plt.grid()\n",
    "plt.show() "
   ]
  },
  {
   "cell_type": "markdown",
   "metadata": {
    "collapsed": true
   },
   "source": [
    "---\n",
    "** TAXA DE CRESCIMENTO ANTES DA DROGA**:\n",
    "\n",
    "Coeficiente A da derivada de S em relação à t"
   ]
  },
  {
   "cell_type": "code",
   "execution_count": 6,
   "metadata": {},
   "outputs": [
    {
     "name": "stdout",
     "output_type": "stream",
     "text": [
      "0.1 cm/mês\n"
     ]
    }
   ],
   "source": [
    "print (str(PL_antes.Law_dSdt()[0]) + \" cm/mês\") "
   ]
  },
  {
   "cell_type": "markdown",
   "metadata": {},
   "source": [
    "** TAXA DE CRESCIMENTO DEPOIS DA DROGA**:\n",
    "\n",
    "Coeficiente A da derivada de S em relação à t"
   ]
  },
  {
   "cell_type": "code",
   "execution_count": 7,
   "metadata": {},
   "outputs": [
    {
     "name": "stdout",
     "output_type": "stream",
     "text": [
      "0.062 cm/mês\n"
     ]
    }
   ],
   "source": [
    "print (format(PL_depois.Law_dSdt()[0],'.3f') + \" cm/mês\") "
   ]
  },
  {
   "cell_type": "markdown",
   "metadata": {},
   "source": [
    "Assim, podemos concluir que a administração da droga **foi efetiva** no tratamento, visto que diminuiu a taxa de crescimento do tumor."
   ]
  },
  {
   "cell_type": "markdown",
   "metadata": {},
   "source": [
    "---\n",
    "Para calcular em quanto tempo o tumor cresce para 1.6cm, deve-se utilizar a lei de potência após a droga. Assim, para S = 1.6:"
   ]
  },
  {
   "cell_type": "code",
   "execution_count": 8,
   "metadata": {},
   "outputs": [
    {
     "name": "stdout",
     "output_type": "stream",
     "text": [
      "8.77339520117\n"
     ]
    }
   ],
   "source": [
    "print (PL_depois.Find_t(1.6))"
   ]
  },
  {
   "cell_type": "markdown",
   "metadata": {},
   "source": [
    "Portanto, o tumor terá tamanho de **1.6cm** após **8.77 meses** desde o início do monitoramento (5.77 meses após a administração da droga experimental)\n",
    "\n",
    "\n",
    "---\n",
    "\n",
    "##### Variáveis Associadas"
   ]
  },
  {
   "cell_type": "code",
   "execution_count": 9,
   "metadata": {},
   "outputs": [
    {
     "name": "stdout",
     "output_type": "stream",
     "text": [
      "\n",
      "\n",
      "Linear Fit Variables - Power Law:\n",
      "\n",
      "a (slope coef) = 1.0\n",
      "b (intercept coef) = -2.30258509299\n",
      "r_value (correlation coefficient) = 1.0\n",
      "std_err (standard error) = 0.0\n",
      "\n",
      "\n",
      "Power Law Variables:\n",
      "\n",
      "Ao = 0.1\n",
      "n = 1.0\n",
      "\n"
     ]
    }
   ],
   "source": [
    "print(PL_antes.Variables())"
   ]
  },
  {
   "cell_type": "code",
   "execution_count": 10,
   "metadata": {},
   "outputs": [
    {
     "name": "stdout",
     "output_type": "stream",
     "text": [
      "\n",
      "\n",
      "Linear Fit Variables - Power Law:\n",
      "\n",
      "a (slope coef) = 0.477859945667\n",
      "b (intercept coef) = -2.30414995509\n",
      "r_value (correlation coefficient) = 0.99990217014\n",
      "std_err (standard error) = 0.00668471984222\n",
      "\n",
      "\n",
      "Power Law Variables:\n",
      "\n",
      "Ao = 0.0998436361664\n",
      "n = 0.477859945667\n",
      "\n"
     ]
    }
   ],
   "source": [
    "print(PL_depois.Variables())"
   ]
  }
 ],
 "metadata": {
  "kernelspec": {
   "display_name": "Python 3",
   "language": "python",
   "name": "python3"
  },
  "language_info": {
   "codemirror_mode": {
    "name": "ipython",
    "version": 3
   },
   "file_extension": ".py",
   "mimetype": "text/x-python",
   "name": "python",
   "nbconvert_exporter": "python",
   "pygments_lexer": "ipython3",
   "version": "3.6.1"
  }
 },
 "nbformat": 4,
 "nbformat_minor": 2
}
