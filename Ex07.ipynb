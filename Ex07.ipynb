{
 "cells": [
  {
   "cell_type": "markdown",
   "metadata": {},
   "source": [
    "<div class=\"clearfix\" style=\"padding: 10px; padding-left: 0px\">\n",
    "<a href=\"https://www.unicamp.br/\"><img src=\"http://www.fee.unicamp.br/sites/all/themes/theme537/images/unicamp.png\" width=\"100px\" style=\"display: inline-block; margin-top: 5px;\"></a>\n",
    "<a href=\"https://www.fee.unicamp.br/\"><img src=\"http://www.fee.unicamp.br/sites/default/files/imagens/logo_feec_50anos_juntos.png\" width=\"150px\" class=\"pull-right\" style=\"display: inline-block; margin: 0px;\"></a>\n",
    "</div>\n",
    "\n",
    "## IE325Z - Introdução à Confiabilidade de Materiais e Dispositivos\n",
    "## Lista 1 - Exercício 7\n",
    "\n",
    "<br>\n",
    "\n",
    "|Alunos   \t|RA   \t|e-mail   \t|\n",
    "|:-:\t|:-:\t|:-:\t|\n",
    "|Patricia Henriques Nallin  \t|103717   \t|patricia.nallin@gmail.com   \t| \n",
    "|Mauricio Martins Donatti  \t|092374   \t|mmdonatti@gmail.com   \t| \n",
    "\n",
    "\n",
    "\n",
    "|Professor     \t|e-mail   \t|\n",
    "|:-:\t|:-:\t|\n",
    "|Prof. Roberto Lacerda de Orio | orio@dsif.fee.unicamp.br |"
   ]
  },
  {
   "cell_type": "markdown",
   "metadata": {},
   "source": [
    "### Instruções de Uso\n",
    "\n",
    "Para rodar um trecho de código:\n",
    "\n",
    "1. Clique para selecionar a célula\n",
    "2. Aperte `SHIFT+ENTER` no teclado ou clique no botão (<button class='fa fa-play icon-play btn btn-xs btn-default'></button>) na barra superior da página."
   ]
  },
  {
   "cell_type": "markdown",
   "metadata": {
    "collapsed": true
   },
   "source": [
    "### Enunciado\n",
    "<br>\n",
    "<div style=\"text-align: justify\">Se  um  divergente  de  fluxo  constante  de <br>$$ \\int \\vec{J}. \\vec{dA} = R = 10^{14} \\frac{átomos}{s}$$\n",
    "\n",
    "<br>existe,  determine  o tempo necessário para 50% dos átomos deixarem um volume de $1 cm^3$ de alumínio, sendo \n",
    "$N_{at} = 6x10^{22}$ átomos.</div>\n",
    "\n",
    "---"
   ]
  },
  {
   "cell_type": "markdown",
   "metadata": {
    "collapsed": true
   },
   "source": [
    "Pode-se descrever o problema descrito acima como uma lei de potência (power law), onde:\n",
    "\n",
    "- $S_o = N_{at} = 6.10^{22}$ átomos\n",
    "\n",
    "- $A_o = -R = -10^{14}$ átomos/s\n",
    "- $n = 1$ (fluxo constante)\n",
    "\n",
    "\n",
    "$S = S_o * (1 - A_o * t) = 6.10^{22} * (1 - 10^{14}*t)$\n",
    "\n",
    "---\n",
    "\n",
    "Para S = 0.5*So, temos um tempo de:\n"
   ]
  },
  {
   "cell_type": "code",
   "execution_count": 1,
   "metadata": {},
   "outputs": [
    {
     "name": "stdout",
     "output_type": "stream",
     "text": [
      "5e-15\n"
     ]
    }
   ],
   "source": [
    "import numpy as np\n",
    "So = 6e22\n",
    "S = 0.5*So\n",
    "Ao = -1e14\n",
    "n = 1\n",
    "\n",
    "print(np.power((((S/So)-1)/Ao),(1/n)))"
   ]
  },
  {
   "cell_type": "markdown",
   "metadata": {},
   "source": [
    "São necessários ** 5 fentossegundos** para que 50% dos átomos deixem o volume de alumínio"
   ]
  }
 ],
 "metadata": {
  "kernelspec": {
   "display_name": "Python 3",
   "language": "python",
   "name": "python3"
  },
  "language_info": {
   "codemirror_mode": {
    "name": "ipython",
    "version": 3
   },
   "file_extension": ".py",
   "mimetype": "text/x-python",
   "name": "python",
   "nbconvert_exporter": "python",
   "pygments_lexer": "ipython3",
   "version": "3.6.1"
  }
 },
 "nbformat": 4,
 "nbformat_minor": 2
}
