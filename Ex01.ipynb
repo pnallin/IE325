{
 "cells": [
  {
   "cell_type": "markdown",
   "metadata": {},
   "source": [
    "<div class=\"clearfix\" style=\"padding: 10px; padding-left: 0px\">\n",
    "<a href=\"https://www.unicamp.br/\"><img src=\"http://www.fee.unicamp.br/sites/all/themes/theme537/images/unicamp.png\" width=\"100px\" style=\"display: inline-block; margin-top: 5px;\"></a>\n",
    "<a href=\"https://www.fee.unicamp.br/\"><img src=\"http://www.fee.unicamp.br/sites/default/files/imagens/logo_feec_50anos_juntos.png\" width=\"150px\" class=\"pull-right\" style=\"display: inline-block; margin: 0px;\"></a>\n",
    "</div>\n",
    "\n",
    "## IE325Z - Introdução à Confiabilidade de Materiais e Dispositivos\n",
    "## Lista 1 - Exercício 1\n",
    "\n",
    "<br>\n",
    "\n",
    "|Alunos   \t|RA   \t|e-mail   \t|\n",
    "|:-:\t|:-:\t|:-:\t|\n",
    "|Patricia Henriques Nallin  \t|103717   \t|patricia.nallin@gmail.com   \t| \n",
    "|Mauricio Martins Donatti  \t|092374   \t|mmdonatti@gmail.com   \t| \n",
    "\n",
    "\n",
    "\n",
    "|Professor     \t|e-mail   \t|\n",
    "|:-:\t|:-:\t|\n",
    "|Prof. Roberto Lacerda de Orio | orio@dsif.fee.unicamp.br |\n",
    "\n",
    "<!-- Exemplo de Warning\n",
    "<div class=\"alert alert-warning\" role=\"alert\" style=\"margin: 10px\">\n",
    "<p>**WARNING**</p>\n",
    "\n",
    "<p>Don't rely on this server for anything you want to last - your server will be *deleted after 10 minutes of inactivity*.</p>\n",
    "</div>\n",
    "-->\n",
    "<!-- Exemplo de Link\n",
    "Your server is hosted thanks to [Rackspace](http://bit.ly/tmpnbdevrax), on their on-demand bare metal servers, [OnMetal](http://bit.ly/onmetal).\n",
    "-->"
   ]
  },
  {
   "cell_type": "markdown",
   "metadata": {},
   "source": [
    "### Instruções de Uso\n",
    "\n",
    "Para rodar um trecho de código:\n",
    "\n",
    "1. Clique para selecionar a célula\n",
    "2. Aperte `SHIFT+ENTER` no teclado ou clique no botão (<button class='fa fa-play icon-play btn btn-xs btn-default'></button>) na barra superior da página."
   ]
  },
  {
   "cell_type": "markdown",
   "metadata": {
    "collapsed": true
   },
   "source": [
    "### Enunciado\n",
    "<br>\n",
    "<div style=\"text-align: justify\">A tensão de limiar $V_T$ de um transistor MOS degrada com o tempo conforme a tabela abaixo.</div>\n",
    "\n",
    "|Tempo (h)|$V_T$ (V)|\n",
    "|:-:|:-:|\n",
    "|0|0,40|\n",
    "|1|0,42|\n",
    "|10|0,44|\n",
    "|100|0,48|\n",
    "\n",
    "<br><div style=\"text-align: justify\">a) Determine a lei de potência que melhor se ajusta aos dados.\n",
    "<br>\n",
    "b) Qual o valor esperado para $V_T$ após 1000 h?</div>\n",
    "\n",
    "---"
   ]
  },
  {
   "cell_type": "code",
   "execution_count": 2,
   "metadata": {
    "scrolled": true
   },
   "outputs": [
    {
     "data": {
      "image/png": "[encoded data removed]",
      "text/plain": [
       "<matplotlib.figure.Figure at 0x114745a58>"
      ]
     },
     "metadata": {},
     "output_type": "display_data"
    }
   ],
   "source": [
    "import matplotlib.pyplot as plt\n",
    "import notebook_importer\n",
    "import numpy as np\n",
    "from modules import IE325\n",
    "\n",
    "# ----- Dados\n",
    "tempo_h = [0, 1, 10, 100]\n",
    "vt = [0.40, 0.42, 0.44, 0.48]\n",
    "\n",
    "PL = IE325.PowerLaw(tempo_h, vt)\n",
    "\n",
    "# ----- Dados linearizados\n",
    "xlin, ylin = PL.LinearData()\n",
    "\n",
    "\n",
    "# ----- Plot    \n",
    "plt.plot(xlin,ylin,'o', xlin, PL.LinearFit())\n",
    "plt.title('Linear Fit')\n",
    "plt.xlabel('ln(t) [h]')\n",
    "plt.ylabel('ln((Vt-Vto)/Vto))')\n",
    "ax1 = plt.gca()\n",
    "ax1.set_xticks(np.arange(-0.5, 5, 0.5))\n",
    "plt.grid()\n",
    "plt.show() "
   ]
  },
  {
   "cell_type": "code",
   "execution_count": 2,
   "metadata": {},
   "outputs": [
    {
     "data": {
      "image/png": "[encoded data removed]",
      "text/plain": [
       "<matplotlib.figure.Figure at 0x110f7fba8>"
      ]
     },
     "metadata": {},
     "output_type": "display_data"
    },
    {
     "name": "stdout",
     "output_type": "stream",
     "text": [
      "Equação de regimento:\n",
      "Vt(t) =0.4 * (1 + 5.000e-02 * t^3.010e-01)\n",
      "Vt(t) =0.4 + 2.000e-02 * t^3.010e-01\n"
     ]
    }
   ],
   "source": [
    "# --------------------------------------------------------\n",
    "# SERIE ORIGINAL DE DADOS\n",
    "# --------------------------------------------------------\n",
    "\n",
    "plt.plot(tempo_h,vt,'o', tempo_h, PL.Find_S(tempo_h))\n",
    "plt.title('Tensão limiar de um transistor MOS')\n",
    "plt.xlabel('t [h]')\n",
    "plt.ylabel('Vt [V]')\n",
    "ax2 = plt.gca()\n",
    "ax2.set_xticks(np.arange(0, 110, 10))\n",
    "ax2.set_yticks(np.arange(0.38, 0.50, 0.02))\n",
    "plt.grid()\n",
    "fig = plt.gcf()\n",
    "plt.show()\n",
    "\n",
    "print(\"Equação de regimento:\")\n",
    "print(\"Vt(t) =\" + PL.LawComplete(decimal = 3))\n",
    "print(\"Vt(t) =\" + PL.LawSimple(decimal = 3))\n"
   ]
  },
  {
   "cell_type": "markdown",
   "metadata": {},
   "source": [
    "---\n",
    "\n",
    "##### Vt do transistor após 1000h"
   ]
  },
  {
   "cell_type": "code",
   "execution_count": 5,
   "metadata": {},
   "outputs": [
    {
     "name": "stdout",
     "output_type": "stream",
     "text": [
      "Para um tempo de 1000h, seguindo a equação acima, o Vt do transistor será de aproximadamente 0.56V.\n"
     ]
    }
   ],
   "source": [
    "# --------------------------------------------------\n",
    "# ----- Vt do transistor para tempo de 1000h ? -----\n",
    "\n",
    "print(\"Para um tempo de 1000h, seguindo a equação acima, o Vt do transistor \\\n",
    "será de aproximadamente \" + str(PL.Find_S(1000)) + \"V.\")"
   ]
  },
  {
   "cell_type": "markdown",
   "metadata": {},
   "source": [
    "---\n",
    "\n",
    "##### Variáveis Associadas"
   ]
  },
  {
   "cell_type": "code",
   "execution_count": 3,
   "metadata": {},
   "outputs": [
    {
     "name": "stdout",
     "output_type": "stream",
     "text": [
      "\n",
      "\n",
      "Linear Fit Variables - Power Law:\n",
      "\n",
      "a (slope coef) = 0.301029995664\n",
      "b (intercept coef) = -2.99573227355\n",
      "r_value (correlation coefficient) = 1.0\n",
      "std_err (standard error) = 0.0\n",
      "\n",
      "\n",
      "Power Law Variables:\n",
      "\n",
      "Ao = 0.05\n",
      "n = 0.301029995664\n",
      "\n"
     ]
    }
   ],
   "source": [
    "print(PL.Variables())"
   ]
  }
 ],
 "metadata": {
  "kernelspec": {
   "display_name": "Python 3",
   "language": "python",
   "name": "python3"
  },
  "language_info": {
   "codemirror_mode": {
    "name": "ipython",
    "version": 3
   },
   "file_extension": ".py",
   "mimetype": "text/x-python",
   "name": "python",
   "nbconvert_exporter": "python",
   "pygments_lexer": "ipython3",
   "version": "3.6.1"
  }
 },
 "nbformat": 4,
 "nbformat_minor": 2
}
