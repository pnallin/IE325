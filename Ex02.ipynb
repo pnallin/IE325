{
 "cells": [
  {
   "cell_type": "markdown",
   "metadata": {},
   "source": [
    "<div class=\"clearfix\" style=\"padding: 10px; padding-left: 0px\">\n",
    "<a href=\"https://www.unicamp.br/\"><img src=\"http://www.fee.unicamp.br/sites/all/themes/theme537/images/unicamp.png\" width=\"100px\" style=\"display: inline-block; margin-top: 5px;\"></a>\n",
    "<a href=\"https://www.fee.unicamp.br/\"><img src=\"http://www.fee.unicamp.br/sites/default/files/imagens/logo_feec_50anos_juntos.png\" width=\"150px\" class=\"pull-right\" style=\"display: inline-block; margin: 0px;\"></a>\n",
    "</div>\n",
    "\n",
    "## IE325Z - Introdução à Confiabilidade de Materiais e Dispositivos\n",
    "## Lista 1 - Exercício 2\n",
    "\n",
    "<br>\n",
    "\n",
    "|Alunos   \t|RA   \t|e-mail   \t|\n",
    "|:-:\t|:-:\t|:-:\t|\n",
    "|Patricia Henriques Nallin  \t|103717   \t|patricia.nallin@gmail.com   \t| \n",
    "|Mauricio Martins Donatti  \t|092374   \t|mmdonatti@gmail.com   \t| \n",
    "\n",
    "\n",
    "\n",
    "|Professor     \t|e-mail   \t|\n",
    "|:-:\t|:-:\t|\n",
    "|Prof. Roberto Lacerda de Orio | orio@dsif.fee.unicamp.br |"
   ]
  },
  {
   "cell_type": "markdown",
   "metadata": {},
   "source": [
    "### Instruções de Uso\n",
    "\n",
    "Para rodar um trecho de código:\n",
    "\n",
    "1. Clique para selecionar a célula\n",
    "2. Aperte `SHIFT+ENTER` no teclado ou clique no botão (<button class='fa fa-play icon-play btn btn-xs btn-default'></button>) na barra superior da página."
   ]
  },
  {
   "cell_type": "markdown",
   "metadata": {
    "collapsed": true
   },
   "source": [
    "### Enunciado\n",
    "<br>\n",
    "<div style=\"text-align: justify\">O teste de antígeno prostático específico (PSA) é frequentemente usado para se detectar a possibilidade de câncer de próstata. O nível de PSA maior que 4 ng/ml(nanograma/mililitro) é considerado anormal, mas a taxa de variação também é importante. Abaixo estão os níveis hipotéticos de PSA de um paciente durante um período de 3 anos. O valor máximo do PSA é menor que 4,0 ng/ml, mas a taxa de aumento é preocupante?</div>\n",
    "\n",
    "| Tempo (anos)|PSA (ng/ml)|\n",
    "|:-:\t|:-:\t|\n",
    "|0|1,0|\n",
    "|1|1,1|\n",
    "|2|1,4|\n",
    "|3|1,9|\n",
    "\n",
    "<div style=\"text-align: justify\">a) O aumento no PSA ocorre a uma taxa crescente ou decrescente? Demonstre.\n",
    "<br>b) Quanto tempo leva para o PSA atingir 4 ng/ml?</div>"
   ]
  },
  {
   "cell_type": "code",
   "execution_count": 1,
   "metadata": {},
   "outputs": [
    {
     "name": "stdout",
     "output_type": "stream",
     "text": [
      "importing notebook from C:\\Users\\Mauricio\\Dropbox\\Unicamp\\2017-2\\IE325Z\\Listas\\Lista 1\\modules\\IE325.ipynb\n"
     ]
    },
    {
     "data": {
      "image/png": "[encoded data removed]",
      "text/plain": [
       "<matplotlib.figure.Figure at 0x19edb85fac8>"
      ]
     },
     "metadata": {},
     "output_type": "display_data"
    },
    {
     "data": {
      "image/png": "[encoded data removed]",
      "text/plain": [
       "<matplotlib.figure.Figure at 0x19ed7d7b7f0>"
      ]
     },
     "metadata": {},
     "output_type": "display_data"
    },
    {
     "name": "stdout",
     "output_type": "stream",
     "text": [
      "Linear Fit Variables - Power Law: \r\n",
      "a (slope coef) = 2.0\r\n",
      "b (intercept coef) = -2.30258509299\r\n",
      "r_value (correlation coefficient) = 1.0\r\n",
      "std_err (standard error) = 0.0\r\n",
      "\n",
      "Linear Fit Variables - Exponential Law: \r\n",
      "a (slope coef) = 0.273271853184\r\n",
      "b (intercept coef) = -0.188664938835\r\n",
      "r_value (correlation coefficient) = 0.997706819851\r\n",
      "std_err (standard error) = 0.0185385995762\r\n",
      "\n"
     ]
    }
   ],
   "source": [
    "import matplotlib.pyplot as plt\n",
    "import notebook_importer\n",
    "from modules import IE325\n",
    "\n",
    "\n",
    "# LEI DE POTENCIA\n",
    "# S = So(1+Ao.tˆn)\n",
    "# Linearizacao\n",
    "# ln((S-So)/So) = ln(Ao) + m.ln(t)\n",
    "# y = b + a.x\n",
    "\n",
    "\n",
    "# LEI EXPONENCIAL\n",
    "# S = So.exp(Ao.t)\n",
    "# Linearizacao\n",
    "# ln(S/So) = Ao.t\n",
    "# y = a.x\n",
    "\n",
    "\n",
    "\n",
    "# ----- Dados\n",
    "tempo_anos = [0, 1, 2, 3]\n",
    "psa = [1.0, 1.1, 1.4, 1.9]\n",
    "\n",
    "PL = IE325.PowerLaw(tempo_anos, psa)\n",
    "EL = IE325.ExponentialLaw(tempo_anos, psa)\n",
    "\n",
    "    \n",
    "# --------------------------------------------------------\n",
    "# LINEAR FIT\n",
    "# --------------------------------------------------------\n",
    "# ----- Dados linearizados\n",
    "xlin,ylin = PL.LinearData()\n",
    "xlin2,ylin2 = EL.LinearData()\n",
    "\n",
    "# ----- Plot Power Law Linear Fit  \n",
    "plt.plot(xlin,ylin,'o', xlin, PL.LinearFit())\n",
    "plt.title('Linear Fit - Power Law')\n",
    "plt.xlabel('ln(t) [anos]')\n",
    "plt.ylabel('ln((PSA-PSAo)/PSAo))')\n",
    "plt.grid()\n",
    "fig = plt.gcf()\n",
    "plt.show() \n",
    "\n",
    "# ----- Plot Exponencial Linear Fit   \n",
    "plt.plot(xlin2,ylin2,'o', xlin2, EL.LinearFit())\n",
    "plt.title('Linear Fit - Exponential')\n",
    "plt.xlabel('t [anos]')\n",
    "plt.ylabel('ln(PSA/PSAo)')\n",
    "plt.grid()\n",
    "fig = plt.gcf()\n",
    "plt.show() \n",
    "\n",
    "#Plot Power Law Linear Fit variables\n",
    "print(PL.Variables())\n",
    "\n",
    "#Plot Exponential Law Linear Fit variables\n",
    "print(EL.Variables())"
   ]
  },
  {
   "cell_type": "code",
   "execution_count": 2,
   "metadata": {},
   "outputs": [
    {
     "data": {
      "image/png": "[encoded data removed]",
      "text/plain": [
       "<matplotlib.figure.Figure at 0x19edbd8bbe0>"
      ]
     },
     "metadata": {},
     "output_type": "display_data"
    }
   ],
   "source": [
    "# --------------------------------------------------------\n",
    "# SERIE ORIGINAL DE DADOS\n",
    "# --------------------------------------------------------\n",
    "\n",
    "# ----- Expansao dos Dados\n",
    "# Sequencia original de dados + expansão para 6 anos\n",
    "tempo_anos_expansao = tempo_anos + [4, 5, 6]\n",
    "data = PL.Find_S(tempo_anos_expansao)\n",
    "data2 = EL.Find_S(tempo_anos_expansao)\n",
    "    \n",
    "# ----- Plot    \n",
    "plt.plot(tempo_anos,psa,'o', tempo_anos_expansao, data, tempo_anos_expansao, data2)\n",
    "plt.title('Antígeno Prostático Específico (PSA)')\n",
    "plt.legend([\"Tabelados\",\"Power law\",\"Exponencial\"])\n",
    "plt.xlabel('t [anos]')\n",
    "plt.ylabel('PSA [ng/ml]')\n",
    "plt.grid()\n",
    "fig = plt.gcf()\n",
    "plt.show()"
   ]
  },
  {
   "cell_type": "markdown",
   "metadata": {},
   "source": [
    "Observa-se pela análise acima, onde os dados são aproximados pelas leis de potência e exponenciais, que a lei válida que deverá ser aplicada ao restante desta análise é a **LEI DE POTÊNCIA**\n",
    "\n",
    "\n",
    "---\n",
    "**EQUAÇÃO DE REGIMENTO**"
   ]
  },
  {
   "cell_type": "code",
   "execution_count": 3,
   "metadata": {},
   "outputs": [
    {
     "name": "stdout",
     "output_type": "stream",
     "text": [
      "Equação de regimento:\n",
      "PSA(t) = 1.0 * (1 + 1.0e-01 * t^2.0e+00) [ng/ml]\n",
      "PSA(t) = 1.0 + 1.0e-01 * t^2.0e+00 [ng/ml]\n"
     ]
    }
   ],
   "source": [
    "# ----- Equacao\n",
    "print(\"Equação de regimento:\")\n",
    "print(\"PSA(t) = \" + PL.LawComplete(decimal=1) + \" [ng/ml]\")\n",
    "print(\"PSA(t) = \" + PL.LawSimple(decimal=1) + \" [ng/ml]\")"
   ]
  },
  {
   "cell_type": "markdown",
   "metadata": {},
   "source": [
    "---\n",
    "**TAXA DE CRESCIMENTO DO PSA**"
   ]
  },
  {
   "cell_type": "code",
   "execution_count": 4,
   "metadata": {
    "scrolled": true
   },
   "outputs": [
    {
     "name": "stdout",
     "output_type": "stream",
     "text": [
      "Taxa de crescimento do PSA\n",
      "d(PSA)/dt = d(1.0 + 1.0e-01 * t^2.0e+00)dt\n",
      "d(PSA)/dt = 0.2*t^1.0\n"
     ]
    }
   ],
   "source": [
    "# --------------------------------------------------------\n",
    "# TAXA DE CRESCIMENTO DO PSA\n",
    "# d(PSA)/dt = PSAo.n.Ao.tˆ(n-1)\n",
    "# --------------------------------------------------------\n",
    "print(\"Taxa de crescimento do PSA\")\n",
    "print(\"d(PSA)/dt = d(\" + PL.LawSimple(decimal=1) + \")dt\")\n",
    "\n",
    "Aod, nd = PL.Law_dSdt()\n",
    "print(\"d(PSA)/dt = \" + str(Aod) + \"*t^\" + str(nd))"
   ]
  },
  {
   "cell_type": "markdown",
   "metadata": {},
   "source": [
    "Podemos ver, pela análise acima, que a taxa de crescimento do PSA é ** *crescente* **!\n",
    "\n",
    "\n",
    "---\n",
    "---\n",
    "Sabendo-se da equação de regimento do problema, como apresentado anteriormente, é possível estimar em quanto tempo o psa chega em **4ng/ml**\n",
    "\n",
    "$PSA(t) = 1 + 0.1 . t^{2}$\n",
    "\n",
    "$t = \\sqrt[2]{\\frac{(PSA - 1)}{0.1}}$\n",
    "\n",
    "Utilizando a função já pronta para a identificação do tempo de um determinado S criada para a POWER-LAW:\n",
    "\n",
    "\n",
    "\n",
    "\n",
    "\n",
    "\n"
   ]
  },
  {
   "cell_type": "code",
   "execution_count": 5,
   "metadata": {},
   "outputs": [
    {
     "name": "stdout",
     "output_type": "stream",
     "text": [
      "5.47722557505\n"
     ]
    }
   ],
   "source": [
    "# --------------------------------------------------------\n",
    "# PSA A 4ng/ml EM QUANTO TEMPO?\n",
    "# --------------------------------------------------------\n",
    "\n",
    "print (PL.Find_t(S=4))"
   ]
  },
  {
   "cell_type": "markdown",
   "metadata": {
    "collapsed": true
   },
   "source": [
    "O tempo para o PSA atingir o valor de 4 ng/ml é de, aproximadamente, **5.48 anos**!"
   ]
  },
  {
   "cell_type": "code",
   "execution_count": null,
   "metadata": {
    "collapsed": true
   },
   "outputs": [],
   "source": []
  }
 ],
 "metadata": {
  "kernelspec": {
   "display_name": "Python 3",
   "language": "python",
   "name": "python3"
  },
  "language_info": {
   "codemirror_mode": {
    "name": "ipython",
    "version": 3
   },
   "file_extension": ".py",
   "mimetype": "text/x-python",
   "name": "python",
   "nbconvert_exporter": "python",
   "pygments_lexer": "ipython3",
   "version": "3.6.1"
  }
 },
 "nbformat": 4,
 "nbformat_minor": 2
}
